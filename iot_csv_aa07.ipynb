{
  "nbformat": 4,
  "nbformat_minor": 0,
  "metadata": {
    "colab": {
      "name": "iot_csv_aa07",
      "version": "0.3.2",
      "provenance": [],
      "collapsed_sections": [],
      "include_colab_link": true
    },
    "kernelspec": {
      "display_name": "Python 3",
      "language": "python",
      "name": "python3"
    }
  },
  "cells": [
    {
      "cell_type": "markdown",
      "metadata": {
        "id": "view-in-github",
        "colab_type": "text"
      },
      "source": [
        "<a href=\"https://colab.research.google.com/github/widegreen/aa07-iot/blob/master/iot_csv_aa07.ipynb\" target=\"_parent\"><img src=\"https://colab.research.google.com/assets/colab-badge.svg\" alt=\"Open In Colab\"/></a>"
      ]
    },
    {
      "metadata": {
        "id": "4RyKlSBw1DjY",
        "colab_type": "text"
      },
      "cell_type": "markdown",
      "source": [
        "### Pandas: Loading the remote csv file\n",
        "\n",
        "> [Pandas: Tutorial-reas_csv()](https://www.marsja.se/pandas-read-csv-tutorial-to-csv/amp/)"
      ]
    },
    {
      "metadata": {
        "id": "y8KjEOPg1Dja",
        "colab_type": "code",
        "colab": {}
      },
      "cell_type": "code",
      "source": [
        "import pandas as pd"
      ],
      "execution_count": 0,
      "outputs": []
    },
    {
      "metadata": {
        "id": "N4sYnKbu1Djg",
        "colab_type": "code",
        "colab": {}
      },
      "cell_type": "code",
      "source": [
        "# url=\"http://chaos.inje.ac.kr:3030/data/ppg5k.csv\"  # CORS powered express server!\n",
        "c=pd.read_csv('AA07_s1000.csv', index_col='date')"
      ],
      "execution_count": 0,
      "outputs": []
    },
    {
      "metadata": {
        "id": "MfB0c8tr1Djj",
        "colab_type": "code",
        "outputId": "db661a98-8654-4827-ae1e-3253cd3792dc",
        "colab": {
          "base_uri": "https://localhost:8080/",
          "height": 35
        }
      },
      "cell_type": "code",
      "source": [
        "c.shape"
      ],
      "execution_count": 102,
      "outputs": [
        {
          "output_type": "execute_result",
          "data": {
            "text/plain": [
              "(1000, 3)"
            ]
          },
          "metadata": {
            "tags": []
          },
          "execution_count": 102
        }
      ]
    },
    {
      "metadata": {
        "id": "rCMGqVrk1Djr",
        "colab_type": "code",
        "outputId": "29d4bb2e-7126-40cd-9f23-0b68db7687ea",
        "colab": {
          "base_uri": "https://localhost:8080/",
          "height": 235
        }
      },
      "cell_type": "code",
      "source": [
        "c.head()"
      ],
      "execution_count": 103,
      "outputs": [
        {
          "output_type": "execute_result",
          "data": {
            "text/html": [
              "<div>\n",
              "<style scoped>\n",
              "    .dataframe tbody tr th:only-of-type {\n",
              "        vertical-align: middle;\n",
              "    }\n",
              "\n",
              "    .dataframe tbody tr th {\n",
              "        vertical-align: top;\n",
              "    }\n",
              "\n",
              "    .dataframe thead th {\n",
              "        text-align: right;\n",
              "    }\n",
              "</style>\n",
              "<table border=\"1\" class=\"dataframe\">\n",
              "  <thead>\n",
              "    <tr style=\"text-align: right;\">\n",
              "      <th></th>\n",
              "      <th>temperature</th>\n",
              "      <th>humidity</th>\n",
              "      <th>luminosity</th>\n",
              "    </tr>\n",
              "    <tr>\n",
              "      <th>date</th>\n",
              "      <th></th>\n",
              "      <th></th>\n",
              "      <th></th>\n",
              "    </tr>\n",
              "  </thead>\n",
              "  <tbody>\n",
              "    <tr>\n",
              "      <th>2018-11-27 18:13:44.103</th>\n",
              "      <td>21.0</td>\n",
              "      <td>29.4</td>\n",
              "      <td>145</td>\n",
              "    </tr>\n",
              "    <tr>\n",
              "      <th>2018-11-27 18:13:41.829</th>\n",
              "      <td>21.0</td>\n",
              "      <td>29.5</td>\n",
              "      <td>146</td>\n",
              "    </tr>\n",
              "    <tr>\n",
              "      <th>2018-11-27 18:13:39.556</th>\n",
              "      <td>21.0</td>\n",
              "      <td>29.6</td>\n",
              "      <td>146</td>\n",
              "    </tr>\n",
              "    <tr>\n",
              "      <th>2018-11-27 18:13:37.283</th>\n",
              "      <td>21.0</td>\n",
              "      <td>29.5</td>\n",
              "      <td>145</td>\n",
              "    </tr>\n",
              "    <tr>\n",
              "      <th>2018-11-27 18:13:35.009</th>\n",
              "      <td>21.0</td>\n",
              "      <td>29.4</td>\n",
              "      <td>145</td>\n",
              "    </tr>\n",
              "  </tbody>\n",
              "</table>\n",
              "</div>"
            ],
            "text/plain": [
              "                         temperature  humidity  luminosity\n",
              "date                                                      \n",
              "2018-11-27 18:13:44.103         21.0      29.4         145\n",
              "2018-11-27 18:13:41.829         21.0      29.5         146\n",
              "2018-11-27 18:13:39.556         21.0      29.6         146\n",
              "2018-11-27 18:13:37.283         21.0      29.5         145\n",
              "2018-11-27 18:13:35.009         21.0      29.4         145"
            ]
          },
          "metadata": {
            "tags": []
          },
          "execution_count": 103
        }
      ]
    },
    {
      "metadata": {
        "id": "YxrpmgS5r3dK",
        "colab_type": "code",
        "colab": {
          "base_uri": "https://localhost:8080/",
          "height": 235
        },
        "outputId": "7e99dee6-616b-4027-b593-0944a5b48954"
      },
      "cell_type": "code",
      "source": [
        "c.tail()"
      ],
      "execution_count": 104,
      "outputs": [
        {
          "output_type": "execute_result",
          "data": {
            "text/html": [
              "<div>\n",
              "<style scoped>\n",
              "    .dataframe tbody tr th:only-of-type {\n",
              "        vertical-align: middle;\n",
              "    }\n",
              "\n",
              "    .dataframe tbody tr th {\n",
              "        vertical-align: top;\n",
              "    }\n",
              "\n",
              "    .dataframe thead th {\n",
              "        text-align: right;\n",
              "    }\n",
              "</style>\n",
              "<table border=\"1\" class=\"dataframe\">\n",
              "  <thead>\n",
              "    <tr style=\"text-align: right;\">\n",
              "      <th></th>\n",
              "      <th>temperature</th>\n",
              "      <th>humidity</th>\n",
              "      <th>luminosity</th>\n",
              "    </tr>\n",
              "    <tr>\n",
              "      <th>date</th>\n",
              "      <th></th>\n",
              "      <th></th>\n",
              "      <th></th>\n",
              "    </tr>\n",
              "  </thead>\n",
              "  <tbody>\n",
              "    <tr>\n",
              "      <th>2018-11-27 17:36:02.090</th>\n",
              "      <td>20.9</td>\n",
              "      <td>30.6</td>\n",
              "      <td>152</td>\n",
              "    </tr>\n",
              "    <tr>\n",
              "      <th>2018-11-27 17:35:59.818</th>\n",
              "      <td>20.9</td>\n",
              "      <td>30.7</td>\n",
              "      <td>154</td>\n",
              "    </tr>\n",
              "    <tr>\n",
              "      <th>2018-11-27 17:35:57.544</th>\n",
              "      <td>20.9</td>\n",
              "      <td>30.8</td>\n",
              "      <td>147</td>\n",
              "    </tr>\n",
              "    <tr>\n",
              "      <th>2018-11-27 17:35:55.270</th>\n",
              "      <td>20.9</td>\n",
              "      <td>31.0</td>\n",
              "      <td>139</td>\n",
              "    </tr>\n",
              "    <tr>\n",
              "      <th>2018-11-27 17:35:52.998</th>\n",
              "      <td>20.9</td>\n",
              "      <td>31.0</td>\n",
              "      <td>140</td>\n",
              "    </tr>\n",
              "  </tbody>\n",
              "</table>\n",
              "</div>"
            ],
            "text/plain": [
              "                         temperature  humidity  luminosity\n",
              "date                                                      \n",
              "2018-11-27 17:36:02.090         20.9      30.6         152\n",
              "2018-11-27 17:35:59.818         20.9      30.7         154\n",
              "2018-11-27 17:35:57.544         20.9      30.8         147\n",
              "2018-11-27 17:35:55.270         20.9      31.0         139\n",
              "2018-11-27 17:35:52.998         20.9      31.0         140"
            ]
          },
          "metadata": {
            "tags": []
          },
          "execution_count": 104
        }
      ]
    },
    {
      "metadata": {
        "id": "m8dQtyJa1Djw",
        "colab_type": "code",
        "outputId": "acb6bfd1-8df7-4874-c9fb-448a8f237b10",
        "colab": {
          "base_uri": "https://localhost:8080/",
          "height": 161
        }
      },
      "cell_type": "code",
      "source": [
        "c.info()"
      ],
      "execution_count": 106,
      "outputs": [
        {
          "output_type": "stream",
          "text": [
            "<class 'pandas.core.frame.DataFrame'>\n",
            "Index: 1000 entries, 2018-11-27 18:13:44.103 to 2018-11-27 17:35:52.998\n",
            "Data columns (total 3 columns):\n",
            "temperature    1000 non-null float64\n",
            "humidity       1000 non-null float64\n",
            "luminosity     1000 non-null int64\n",
            "dtypes: float64(2), int64(1)\n",
            "memory usage: 31.2+ KB\n"
          ],
          "name": "stdout"
        }
      ]
    },
    {
      "metadata": {
        "id": "m3C8fjK_1Dj2",
        "colab_type": "code",
        "outputId": "6c48c537-79a2-4f38-b04e-23769e71d8ce",
        "colab": {
          "base_uri": "https://localhost:8080/",
          "height": 235
        }
      },
      "cell_type": "code",
      "source": [
        "# another method to read csv \n",
        "c2=pd.read_csv('AA07_s1000.csv', index_col='date')\n",
        "c2.head()"
      ],
      "execution_count": 107,
      "outputs": [
        {
          "output_type": "execute_result",
          "data": {
            "text/html": [
              "<div>\n",
              "<style scoped>\n",
              "    .dataframe tbody tr th:only-of-type {\n",
              "        vertical-align: middle;\n",
              "    }\n",
              "\n",
              "    .dataframe tbody tr th {\n",
              "        vertical-align: top;\n",
              "    }\n",
              "\n",
              "    .dataframe thead th {\n",
              "        text-align: right;\n",
              "    }\n",
              "</style>\n",
              "<table border=\"1\" class=\"dataframe\">\n",
              "  <thead>\n",
              "    <tr style=\"text-align: right;\">\n",
              "      <th></th>\n",
              "      <th>temperature</th>\n",
              "      <th>humidity</th>\n",
              "      <th>luminosity</th>\n",
              "    </tr>\n",
              "    <tr>\n",
              "      <th>date</th>\n",
              "      <th></th>\n",
              "      <th></th>\n",
              "      <th></th>\n",
              "    </tr>\n",
              "  </thead>\n",
              "  <tbody>\n",
              "    <tr>\n",
              "      <th>2018-11-27 18:13:44.103</th>\n",
              "      <td>21.0</td>\n",
              "      <td>29.4</td>\n",
              "      <td>145</td>\n",
              "    </tr>\n",
              "    <tr>\n",
              "      <th>2018-11-27 18:13:41.829</th>\n",
              "      <td>21.0</td>\n",
              "      <td>29.5</td>\n",
              "      <td>146</td>\n",
              "    </tr>\n",
              "    <tr>\n",
              "      <th>2018-11-27 18:13:39.556</th>\n",
              "      <td>21.0</td>\n",
              "      <td>29.6</td>\n",
              "      <td>146</td>\n",
              "    </tr>\n",
              "    <tr>\n",
              "      <th>2018-11-27 18:13:37.283</th>\n",
              "      <td>21.0</td>\n",
              "      <td>29.5</td>\n",
              "      <td>145</td>\n",
              "    </tr>\n",
              "    <tr>\n",
              "      <th>2018-11-27 18:13:35.009</th>\n",
              "      <td>21.0</td>\n",
              "      <td>29.4</td>\n",
              "      <td>145</td>\n",
              "    </tr>\n",
              "  </tbody>\n",
              "</table>\n",
              "</div>"
            ],
            "text/plain": [
              "                         temperature  humidity  luminosity\n",
              "date                                                      \n",
              "2018-11-27 18:13:44.103         21.0      29.4         145\n",
              "2018-11-27 18:13:41.829         21.0      29.5         146\n",
              "2018-11-27 18:13:39.556         21.0      29.6         146\n",
              "2018-11-27 18:13:37.283         21.0      29.5         145\n",
              "2018-11-27 18:13:35.009         21.0      29.4         145"
            ]
          },
          "metadata": {
            "tags": []
          },
          "execution_count": 107
        }
      ]
    },
    {
      "metadata": {
        "id": "NbTuxzs81Dj7",
        "colab_type": "code",
        "colab": {}
      },
      "cell_type": "code",
      "source": [
        "# import matplotlib.pyplot as plt\n",
        "%matplotlib inline"
      ],
      "execution_count": 0,
      "outputs": []
    },
    {
      "metadata": {
        "id": "MyKp3iqT1Dj_",
        "colab_type": "code",
        "outputId": "2b7f7002-7da5-43e6-a0f9-143f51250e6c",
        "colab": {
          "base_uri": "https://localhost:8080/",
          "height": 357
        }
      },
      "cell_type": "code",
      "source": [
        "c.plot(figsize=(12,5), title=\"Sensordata\")"
      ],
      "execution_count": 109,
      "outputs": [
        {
          "output_type": "execute_result",
          "data": {
            "text/plain": [
              "<matplotlib.axes._subplots.AxesSubplot at 0x7f375a24d860>"
            ]
          },
          "metadata": {
            "tags": []
          },
          "execution_count": 109
        },
        {
          "output_type": "display_data",
          "data": {
            "image/png": "[encoded data removed]",
            "text/plain": [
              "<matplotlib.figure.Figure at 0x7f375a569860>"
            ]
          },
          "metadata": {
            "tags": []
          }
        }
      ]
    },
    {
      "metadata": {
        "id": "4q83kwzv1DkF",
        "colab_type": "code",
        "outputId": "a91d9eb7-34bf-464e-b8a7-5765e62129be",
        "colab": {
          "base_uri": "https://localhost:8080/",
          "height": 357
        }
      },
      "cell_type": "code",
      "source": [
        "c[:1000].plot(figsize=(12,5), title=\"Sensordata\")"
      ],
      "execution_count": 110,
      "outputs": [
        {
          "output_type": "execute_result",
          "data": {
            "text/plain": [
              "<matplotlib.axes._subplots.AxesSubplot at 0x7f375a1af208>"
            ]
          },
          "metadata": {
            "tags": []
          },
          "execution_count": 110
        },
        {
          "output_type": "display_data",
          "data": {
            "image/png": "[encoded data removed]",
            "text/plain": [
              "<matplotlib.figure.Figure at 0x7f375a16e048>"
            ]
          },
          "metadata": {
            "tags": []
          }
        }
      ]
    },
    {
      "metadata": {
        "id": "0Mjp7Izv1DkK",
        "colab_type": "text"
      },
      "cell_type": "markdown",
      "source": [
        "### iot data\n",
        "> Sensor data from Arduino with CdS and DHT22\n",
        "\n",
        "- temperature\n",
        "- humidity\n",
        "- luminosity"
      ]
    },
    {
      "metadata": {
        "id": "JocMoJ3q1DkL",
        "colab_type": "code",
        "colab": {}
      },
      "cell_type": "code",
      "source": [
        "\n",
        "iot=pd.read_csv('AA07_s1000.csv', index_col='date')"
      ],
      "execution_count": 0,
      "outputs": []
    },
    {
      "metadata": {
        "id": "d-M3o1hI1DkQ",
        "colab_type": "code",
        "outputId": "7bcb1bd0-85f1-4564-c502-19351d0d41e3",
        "colab": {
          "base_uri": "https://localhost:8080/",
          "height": 35
        }
      },
      "cell_type": "code",
      "source": [
        "iot.shape"
      ],
      "execution_count": 112,
      "outputs": [
        {
          "output_type": "execute_result",
          "data": {
            "text/plain": [
              "(1000, 3)"
            ]
          },
          "metadata": {
            "tags": []
          },
          "execution_count": 112
        }
      ]
    },
    {
      "metadata": {
        "id": "b5TKa9bX1DkV",
        "colab_type": "code",
        "outputId": "fee0a640-ea7c-4ddd-e5b8-8b2529ad62f0",
        "colab": {
          "base_uri": "https://localhost:8080/",
          "height": 235
        }
      },
      "cell_type": "code",
      "source": [
        "iot.head()"
      ],
      "execution_count": 113,
      "outputs": [
        {
          "output_type": "execute_result",
          "data": {
            "text/html": [
              "<div>\n",
              "<style scoped>\n",
              "    .dataframe tbody tr th:only-of-type {\n",
              "        vertical-align: middle;\n",
              "    }\n",
              "\n",
              "    .dataframe tbody tr th {\n",
              "        vertical-align: top;\n",
              "    }\n",
              "\n",
              "    .dataframe thead th {\n",
              "        text-align: right;\n",
              "    }\n",
              "</style>\n",
              "<table border=\"1\" class=\"dataframe\">\n",
              "  <thead>\n",
              "    <tr style=\"text-align: right;\">\n",
              "      <th></th>\n",
              "      <th>temperature</th>\n",
              "      <th>humidity</th>\n",
              "      <th>luminosity</th>\n",
              "    </tr>\n",
              "    <tr>\n",
              "      <th>date</th>\n",
              "      <th></th>\n",
              "      <th></th>\n",
              "      <th></th>\n",
              "    </tr>\n",
              "  </thead>\n",
              "  <tbody>\n",
              "    <tr>\n",
              "      <th>2018-11-27 18:13:44.103</th>\n",
              "      <td>21.0</td>\n",
              "      <td>29.4</td>\n",
              "      <td>145</td>\n",
              "    </tr>\n",
              "    <tr>\n",
              "      <th>2018-11-27 18:13:41.829</th>\n",
              "      <td>21.0</td>\n",
              "      <td>29.5</td>\n",
              "      <td>146</td>\n",
              "    </tr>\n",
              "    <tr>\n",
              "      <th>2018-11-27 18:13:39.556</th>\n",
              "      <td>21.0</td>\n",
              "      <td>29.6</td>\n",
              "      <td>146</td>\n",
              "    </tr>\n",
              "    <tr>\n",
              "      <th>2018-11-27 18:13:37.283</th>\n",
              "      <td>21.0</td>\n",
              "      <td>29.5</td>\n",
              "      <td>145</td>\n",
              "    </tr>\n",
              "    <tr>\n",
              "      <th>2018-11-27 18:13:35.009</th>\n",
              "      <td>21.0</td>\n",
              "      <td>29.4</td>\n",
              "      <td>145</td>\n",
              "    </tr>\n",
              "  </tbody>\n",
              "</table>\n",
              "</div>"
            ],
            "text/plain": [
              "                         temperature  humidity  luminosity\n",
              "date                                                      \n",
              "2018-11-27 18:13:44.103         21.0      29.4         145\n",
              "2018-11-27 18:13:41.829         21.0      29.5         146\n",
              "2018-11-27 18:13:39.556         21.0      29.6         146\n",
              "2018-11-27 18:13:37.283         21.0      29.5         145\n",
              "2018-11-27 18:13:35.009         21.0      29.4         145"
            ]
          },
          "metadata": {
            "tags": []
          },
          "execution_count": 113
        }
      ]
    },
    {
      "metadata": {
        "id": "CjyUNVTQ1Dkb",
        "colab_type": "code",
        "outputId": "eb35c9ee-ea2e-4adb-c840-8c3f66520abf",
        "colab": {
          "base_uri": "https://localhost:8080/",
          "height": 235
        }
      },
      "cell_type": "code",
      "source": [
        "iot.tail()"
      ],
      "execution_count": 114,
      "outputs": [
        {
          "output_type": "execute_result",
          "data": {
            "text/html": [
              "<div>\n",
              "<style scoped>\n",
              "    .dataframe tbody tr th:only-of-type {\n",
              "        vertical-align: middle;\n",
              "    }\n",
              "\n",
              "    .dataframe tbody tr th {\n",
              "        vertical-align: top;\n",
              "    }\n",
              "\n",
              "    .dataframe thead th {\n",
              "        text-align: right;\n",
              "    }\n",
              "</style>\n",
              "<table border=\"1\" class=\"dataframe\">\n",
              "  <thead>\n",
              "    <tr style=\"text-align: right;\">\n",
              "      <th></th>\n",
              "      <th>temperature</th>\n",
              "      <th>humidity</th>\n",
              "      <th>luminosity</th>\n",
              "    </tr>\n",
              "    <tr>\n",
              "      <th>date</th>\n",
              "      <th></th>\n",
              "      <th></th>\n",
              "      <th></th>\n",
              "    </tr>\n",
              "  </thead>\n",
              "  <tbody>\n",
              "    <tr>\n",
              "      <th>2018-11-27 17:36:02.090</th>\n",
              "      <td>20.9</td>\n",
              "      <td>30.6</td>\n",
              "      <td>152</td>\n",
              "    </tr>\n",
              "    <tr>\n",
              "      <th>2018-11-27 17:35:59.818</th>\n",
              "      <td>20.9</td>\n",
              "      <td>30.7</td>\n",
              "      <td>154</td>\n",
              "    </tr>\n",
              "    <tr>\n",
              "      <th>2018-11-27 17:35:57.544</th>\n",
              "      <td>20.9</td>\n",
              "      <td>30.8</td>\n",
              "      <td>147</td>\n",
              "    </tr>\n",
              "    <tr>\n",
              "      <th>2018-11-27 17:35:55.270</th>\n",
              "      <td>20.9</td>\n",
              "      <td>31.0</td>\n",
              "      <td>139</td>\n",
              "    </tr>\n",
              "    <tr>\n",
              "      <th>2018-11-27 17:35:52.998</th>\n",
              "      <td>20.9</td>\n",
              "      <td>31.0</td>\n",
              "      <td>140</td>\n",
              "    </tr>\n",
              "  </tbody>\n",
              "</table>\n",
              "</div>"
            ],
            "text/plain": [
              "                         temperature  humidity  luminosity\n",
              "date                                                      \n",
              "2018-11-27 17:36:02.090         20.9      30.6         152\n",
              "2018-11-27 17:35:59.818         20.9      30.7         154\n",
              "2018-11-27 17:35:57.544         20.9      30.8         147\n",
              "2018-11-27 17:35:55.270         20.9      31.0         139\n",
              "2018-11-27 17:35:52.998         20.9      31.0         140"
            ]
          },
          "metadata": {
            "tags": []
          },
          "execution_count": 114
        }
      ]
    },
    {
      "metadata": {
        "id": "o66Mb3tp1Dki",
        "colab_type": "code",
        "outputId": "fb18b930-f64e-4c1b-acd5-70369a761c27",
        "colab": {
          "base_uri": "https://localhost:8080/",
          "height": 161
        }
      },
      "cell_type": "code",
      "source": [
        "iot.info()"
      ],
      "execution_count": 115,
      "outputs": [
        {
          "output_type": "stream",
          "text": [
            "<class 'pandas.core.frame.DataFrame'>\n",
            "Index: 1000 entries, 2018-11-27 18:13:44.103 to 2018-11-27 17:35:52.998\n",
            "Data columns (total 3 columns):\n",
            "temperature    1000 non-null float64\n",
            "humidity       1000 non-null float64\n",
            "luminosity     1000 non-null int64\n",
            "dtypes: float64(2), int64(1)\n",
            "memory usage: 31.2+ KB\n"
          ],
          "name": "stdout"
        }
      ]
    },
    {
      "metadata": {
        "id": "DrIb6pwx1Dkn",
        "colab_type": "text"
      },
      "cell_type": "markdown",
      "source": [
        "### Sort index by date"
      ]
    },
    {
      "metadata": {
        "id": "v3ujbMYb1Dkp",
        "colab_type": "code",
        "colab": {}
      },
      "cell_type": "code",
      "source": [
        "iot_s = iot.sort_index()"
      ],
      "execution_count": 0,
      "outputs": []
    },
    {
      "metadata": {
        "id": "OoKNtme61Dkt",
        "colab_type": "code",
        "outputId": "546b6d4e-2112-414d-ca4f-affe5550c448",
        "colab": {
          "base_uri": "https://localhost:8080/",
          "height": 235
        }
      },
      "cell_type": "code",
      "source": [
        "iot_s.head()"
      ],
      "execution_count": 117,
      "outputs": [
        {
          "output_type": "execute_result",
          "data": {
            "text/html": [
              "<div>\n",
              "<style scoped>\n",
              "    .dataframe tbody tr th:only-of-type {\n",
              "        vertical-align: middle;\n",
              "    }\n",
              "\n",
              "    .dataframe tbody tr th {\n",
              "        vertical-align: top;\n",
              "    }\n",
              "\n",
              "    .dataframe thead th {\n",
              "        text-align: right;\n",
              "    }\n",
              "</style>\n",
              "<table border=\"1\" class=\"dataframe\">\n",
              "  <thead>\n",
              "    <tr style=\"text-align: right;\">\n",
              "      <th></th>\n",
              "      <th>temperature</th>\n",
              "      <th>humidity</th>\n",
              "      <th>luminosity</th>\n",
              "    </tr>\n",
              "    <tr>\n",
              "      <th>date</th>\n",
              "      <th></th>\n",
              "      <th></th>\n",
              "      <th></th>\n",
              "    </tr>\n",
              "  </thead>\n",
              "  <tbody>\n",
              "    <tr>\n",
              "      <th>2018-11-27 17:35:52.998</th>\n",
              "      <td>20.9</td>\n",
              "      <td>31.0</td>\n",
              "      <td>140</td>\n",
              "    </tr>\n",
              "    <tr>\n",
              "      <th>2018-11-27 17:35:55.270</th>\n",
              "      <td>20.9</td>\n",
              "      <td>31.0</td>\n",
              "      <td>139</td>\n",
              "    </tr>\n",
              "    <tr>\n",
              "      <th>2018-11-27 17:35:57.544</th>\n",
              "      <td>20.9</td>\n",
              "      <td>30.8</td>\n",
              "      <td>147</td>\n",
              "    </tr>\n",
              "    <tr>\n",
              "      <th>2018-11-27 17:35:59.818</th>\n",
              "      <td>20.9</td>\n",
              "      <td>30.7</td>\n",
              "      <td>154</td>\n",
              "    </tr>\n",
              "    <tr>\n",
              "      <th>2018-11-27 17:36:02.090</th>\n",
              "      <td>20.9</td>\n",
              "      <td>30.6</td>\n",
              "      <td>152</td>\n",
              "    </tr>\n",
              "  </tbody>\n",
              "</table>\n",
              "</div>"
            ],
            "text/plain": [
              "                         temperature  humidity  luminosity\n",
              "date                                                      \n",
              "2018-11-27 17:35:52.998         20.9      31.0         140\n",
              "2018-11-27 17:35:55.270         20.9      31.0         139\n",
              "2018-11-27 17:35:57.544         20.9      30.8         147\n",
              "2018-11-27 17:35:59.818         20.9      30.7         154\n",
              "2018-11-27 17:36:02.090         20.9      30.6         152"
            ]
          },
          "metadata": {
            "tags": []
          },
          "execution_count": 117
        }
      ]
    },
    {
      "metadata": {
        "id": "ShvtLDxd1Dk0",
        "colab_type": "code",
        "outputId": "162d0b5f-d979-4119-f042-05cb42e95750",
        "colab": {
          "base_uri": "https://localhost:8080/",
          "height": 396
        }
      },
      "cell_type": "code",
      "source": [
        "iot_s.plot(figsize=(12,6))"
      ],
      "execution_count": 118,
      "outputs": [
        {
          "output_type": "execute_result",
          "data": {
            "text/plain": [
              "<matplotlib.axes._subplots.AxesSubplot at 0x7f375a1737b8>"
            ]
          },
          "metadata": {
            "tags": []
          },
          "execution_count": 118
        },
        {
          "output_type": "display_data",
          "data": {
            "image/png": "[encoded data removed]",
            "text/plain": [
              "<matplotlib.figure.Figure at 0x7f375a189e10>"
            ]
          },
          "metadata": {
            "tags": []
          }
        }
      ]
    },
    {
      "metadata": {
        "id": "NIrq0QfJ1Dk6",
        "colab_type": "code",
        "outputId": "3cbe4083-d1de-4d08-fb4e-48266ea70585",
        "colab": {
          "base_uri": "https://localhost:8080/",
          "height": 89
        }
      },
      "cell_type": "code",
      "source": [
        "iot_s.mean()"
      ],
      "execution_count": 119,
      "outputs": [
        {
          "output_type": "execute_result",
          "data": {
            "text/plain": [
              "temperature     20.9760\n",
              "humidity        30.2034\n",
              "luminosity     140.5880\n",
              "dtype: float64"
            ]
          },
          "metadata": {
            "tags": []
          },
          "execution_count": 119
        }
      ]
    },
    {
      "metadata": {
        "id": "T_NXwO3v1Dk-",
        "colab_type": "code",
        "outputId": "78cbf2df-1779-4d2f-8c40-62a2eb0c3b86",
        "colab": {
          "base_uri": "https://localhost:8080/",
          "height": 397
        }
      },
      "cell_type": "code",
      "source": [
        "iot_s.mean().plot.bar(figsize=(10,5), title=\"iot data: temp, humi, lumi\")"
      ],
      "execution_count": 120,
      "outputs": [
        {
          "output_type": "execute_result",
          "data": {
            "text/plain": [
              "<matplotlib.axes._subplots.AxesSubplot at 0x7f375a1af588>"
            ]
          },
          "metadata": {
            "tags": []
          },
          "execution_count": 120
        },
        {
          "output_type": "display_data",
          "data": {
            "image/png": "[encoded data removed]",
            "text/plain": [
              "<matplotlib.figure.Figure at 0x7f375a115748>"
            ]
          },
          "metadata": {
            "tags": []
          }
        }
      ]
    },
    {
      "metadata": {
        "id": "TYGSDEGP1DlE",
        "colab_type": "text"
      },
      "cell_type": "markdown",
      "source": [
        "## Plot the change of sensor data over various time spans.\n",
        "\n",
        "- resample the data at different frequency\n",
        "- time span: 60 sec, 1 hour, 1 day, 1 week"
      ]
    },
    {
      "metadata": {
        "id": "dPgcIFOP1DlF",
        "colab_type": "code",
        "outputId": "2cd44721-577d-41c0-9534-f2457f30e664",
        "colab": {
          "base_uri": "https://localhost:8080/",
          "height": 161
        }
      },
      "cell_type": "code",
      "source": [
        "iot_s.info()"
      ],
      "execution_count": 121,
      "outputs": [
        {
          "output_type": "stream",
          "text": [
            "<class 'pandas.core.frame.DataFrame'>\n",
            "Index: 1000 entries, 2018-11-27 17:35:52.998 to 2018-11-27 18:13:44.103\n",
            "Data columns (total 3 columns):\n",
            "temperature    1000 non-null float64\n",
            "humidity       1000 non-null float64\n",
            "luminosity     1000 non-null int64\n",
            "dtypes: float64(2), int64(1)\n",
            "memory usage: 31.2+ KB\n"
          ],
          "name": "stdout"
        }
      ]
    },
    {
      "metadata": {
        "id": "zr1RA5Ix1DlJ",
        "colab_type": "code",
        "outputId": "fdb0c55d-ca05-4c44-aab5-68fb8979dad1",
        "colab": {
          "base_uri": "https://localhost:8080/",
          "height": 35
        }
      },
      "cell_type": "code",
      "source": [
        "# type of index\n",
        "iot_s.index[0], type(iot_s.index[0])"
      ],
      "execution_count": 122,
      "outputs": [
        {
          "output_type": "execute_result",
          "data": {
            "text/plain": [
              "('2018-11-27 17:35:52.998', str)"
            ]
          },
          "metadata": {
            "tags": []
          },
          "execution_count": 122
        }
      ]
    },
    {
      "metadata": {
        "id": "2Tsb1Z9x1DlN",
        "colab_type": "code",
        "colab": {}
      },
      "cell_type": "code",
      "source": [
        "# Convert index to timestamp\n",
        "iot_s.index = pd.to_datetime(iot_s.index)"
      ],
      "execution_count": 0,
      "outputs": []
    },
    {
      "metadata": {
        "id": "9mAeysp31DlU",
        "colab_type": "code",
        "outputId": "b4ee5d3d-c949-4e6f-e4c6-4861b3cb4152",
        "colab": {
          "base_uri": "https://localhost:8080/",
          "height": 161
        }
      },
      "cell_type": "code",
      "source": [
        "iot_s.info()"
      ],
      "execution_count": 124,
      "outputs": [
        {
          "output_type": "stream",
          "text": [
            "<class 'pandas.core.frame.DataFrame'>\n",
            "DatetimeIndex: 1000 entries, 2018-11-27 17:35:52.998000 to 2018-11-27 18:13:44.103000\n",
            "Data columns (total 3 columns):\n",
            "temperature    1000 non-null float64\n",
            "humidity       1000 non-null float64\n",
            "luminosity     1000 non-null int64\n",
            "dtypes: float64(2), int64(1)\n",
            "memory usage: 31.2 KB\n"
          ],
          "name": "stdout"
        }
      ]
    },
    {
      "metadata": {
        "id": "p0dZyoMy1DlY",
        "colab_type": "code",
        "outputId": "c5073d34-b6a1-41f0-b154-238d88ad6b8a",
        "colab": {
          "base_uri": "https://localhost:8080/",
          "height": 1289
        }
      },
      "cell_type": "code",
      "source": [
        "# Estimate the mean of iot_s for every hour\n",
        "iot_s.resample('60S').mean()  # mean per each hour"
      ],
      "execution_count": 125,
      "outputs": [
        {
          "output_type": "execute_result",
          "data": {
            "text/html": [
              "<div>\n",
              "<style scoped>\n",
              "    .dataframe tbody tr th:only-of-type {\n",
              "        vertical-align: middle;\n",
              "    }\n",
              "\n",
              "    .dataframe tbody tr th {\n",
              "        vertical-align: top;\n",
              "    }\n",
              "\n",
              "    .dataframe thead th {\n",
              "        text-align: right;\n",
              "    }\n",
              "</style>\n",
              "<table border=\"1\" class=\"dataframe\">\n",
              "  <thead>\n",
              "    <tr style=\"text-align: right;\">\n",
              "      <th></th>\n",
              "      <th>temperature</th>\n",
              "      <th>humidity</th>\n",
              "      <th>luminosity</th>\n",
              "    </tr>\n",
              "    <tr>\n",
              "      <th>date</th>\n",
              "      <th></th>\n",
              "      <th></th>\n",
              "      <th></th>\n",
              "    </tr>\n",
              "  </thead>\n",
              "  <tbody>\n",
              "    <tr>\n",
              "      <th>2018-11-27 17:35:00</th>\n",
              "      <td>20.900000</td>\n",
              "      <td>30.875000</td>\n",
              "      <td>145.000000</td>\n",
              "    </tr>\n",
              "    <tr>\n",
              "      <th>2018-11-27 17:36:00</th>\n",
              "      <td>20.903846</td>\n",
              "      <td>31.203846</td>\n",
              "      <td>151.192308</td>\n",
              "    </tr>\n",
              "    <tr>\n",
              "      <th>2018-11-27 17:37:00</th>\n",
              "      <td>20.900000</td>\n",
              "      <td>30.319231</td>\n",
              "      <td>144.846154</td>\n",
              "    </tr>\n",
              "    <tr>\n",
              "      <th>2018-11-27 17:38:00</th>\n",
              "      <td>20.907407</td>\n",
              "      <td>29.996296</td>\n",
              "      <td>140.666667</td>\n",
              "    </tr>\n",
              "    <tr>\n",
              "      <th>2018-11-27 17:39:00</th>\n",
              "      <td>20.915385</td>\n",
              "      <td>29.880769</td>\n",
              "      <td>139.384615</td>\n",
              "    </tr>\n",
              "    <tr>\n",
              "      <th>2018-11-27 17:40:00</th>\n",
              "      <td>21.000000</td>\n",
              "      <td>30.281481</td>\n",
              "      <td>138.592593</td>\n",
              "    </tr>\n",
              "    <tr>\n",
              "      <th>2018-11-27 17:41:00</th>\n",
              "      <td>21.000000</td>\n",
              "      <td>30.061538</td>\n",
              "      <td>138.461538</td>\n",
              "    </tr>\n",
              "    <tr>\n",
              "      <th>2018-11-27 17:42:00</th>\n",
              "      <td>21.000000</td>\n",
              "      <td>30.819231</td>\n",
              "      <td>138.461538</td>\n",
              "    </tr>\n",
              "    <tr>\n",
              "      <th>2018-11-27 17:43:00</th>\n",
              "      <td>20.996296</td>\n",
              "      <td>29.729630</td>\n",
              "      <td>137.777778</td>\n",
              "    </tr>\n",
              "    <tr>\n",
              "      <th>2018-11-27 17:44:00</th>\n",
              "      <td>21.000000</td>\n",
              "      <td>30.676923</td>\n",
              "      <td>138.115385</td>\n",
              "    </tr>\n",
              "    <tr>\n",
              "      <th>2018-11-27 17:45:00</th>\n",
              "      <td>20.996296</td>\n",
              "      <td>30.244444</td>\n",
              "      <td>139.333333</td>\n",
              "    </tr>\n",
              "    <tr>\n",
              "      <th>2018-11-27 17:46:00</th>\n",
              "      <td>21.000000</td>\n",
              "      <td>30.100000</td>\n",
              "      <td>139.192308</td>\n",
              "    </tr>\n",
              "    <tr>\n",
              "      <th>2018-11-27 17:47:00</th>\n",
              "      <td>21.000000</td>\n",
              "      <td>29.738462</td>\n",
              "      <td>139.730769</td>\n",
              "    </tr>\n",
              "    <tr>\n",
              "      <th>2018-11-27 17:48:00</th>\n",
              "      <td>20.981481</td>\n",
              "      <td>29.459259</td>\n",
              "      <td>139.037037</td>\n",
              "    </tr>\n",
              "    <tr>\n",
              "      <th>2018-11-27 17:49:00</th>\n",
              "      <td>20.988462</td>\n",
              "      <td>29.884615</td>\n",
              "      <td>139.423077</td>\n",
              "    </tr>\n",
              "    <tr>\n",
              "      <th>2018-11-27 17:50:00</th>\n",
              "      <td>21.015385</td>\n",
              "      <td>31.896154</td>\n",
              "      <td>127.807692</td>\n",
              "    </tr>\n",
              "    <tr>\n",
              "      <th>2018-11-27 17:51:00</th>\n",
              "      <td>21.096296</td>\n",
              "      <td>32.240741</td>\n",
              "      <td>136.592593</td>\n",
              "    </tr>\n",
              "    <tr>\n",
              "      <th>2018-11-27 17:52:00</th>\n",
              "      <td>21.103846</td>\n",
              "      <td>30.511538</td>\n",
              "      <td>139.769231</td>\n",
              "    </tr>\n",
              "    <tr>\n",
              "      <th>2018-11-27 17:53:00</th>\n",
              "      <td>21.100000</td>\n",
              "      <td>29.388889</td>\n",
              "      <td>141.148148</td>\n",
              "    </tr>\n",
              "    <tr>\n",
              "      <th>2018-11-27 17:54:00</th>\n",
              "      <td>21.057692</td>\n",
              "      <td>29.523077</td>\n",
              "      <td>140.423077</td>\n",
              "    </tr>\n",
              "    <tr>\n",
              "      <th>2018-11-27 17:55:00</th>\n",
              "      <td>20.980769</td>\n",
              "      <td>29.561538</td>\n",
              "      <td>140.269231</td>\n",
              "    </tr>\n",
              "    <tr>\n",
              "      <th>2018-11-27 17:56:00</th>\n",
              "      <td>20.996296</td>\n",
              "      <td>29.792593</td>\n",
              "      <td>140.703704</td>\n",
              "    </tr>\n",
              "    <tr>\n",
              "      <th>2018-11-27 17:57:00</th>\n",
              "      <td>20.919231</td>\n",
              "      <td>29.742308</td>\n",
              "      <td>141.846154</td>\n",
              "    </tr>\n",
              "    <tr>\n",
              "      <th>2018-11-27 17:58:00</th>\n",
              "      <td>20.940741</td>\n",
              "      <td>30.751852</td>\n",
              "      <td>142.888889</td>\n",
              "    </tr>\n",
              "    <tr>\n",
              "      <th>2018-11-27 17:59:00</th>\n",
              "      <td>20.973077</td>\n",
              "      <td>30.111538</td>\n",
              "      <td>143.384615</td>\n",
              "    </tr>\n",
              "    <tr>\n",
              "      <th>2018-11-27 18:00:00</th>\n",
              "      <td>20.900000</td>\n",
              "      <td>30.596154</td>\n",
              "      <td>142.423077</td>\n",
              "    </tr>\n",
              "    <tr>\n",
              "      <th>2018-11-27 18:01:00</th>\n",
              "      <td>20.900000</td>\n",
              "      <td>30.596296</td>\n",
              "      <td>138.518519</td>\n",
              "    </tr>\n",
              "    <tr>\n",
              "      <th>2018-11-27 18:02:00</th>\n",
              "      <td>20.900000</td>\n",
              "      <td>29.734615</td>\n",
              "      <td>138.884615</td>\n",
              "    </tr>\n",
              "    <tr>\n",
              "      <th>2018-11-27 18:03:00</th>\n",
              "      <td>20.903704</td>\n",
              "      <td>30.474074</td>\n",
              "      <td>140.259259</td>\n",
              "    </tr>\n",
              "    <tr>\n",
              "      <th>2018-11-27 18:04:00</th>\n",
              "      <td>20.965385</td>\n",
              "      <td>29.973077</td>\n",
              "      <td>141.961538</td>\n",
              "    </tr>\n",
              "    <tr>\n",
              "      <th>2018-11-27 18:05:00</th>\n",
              "      <td>20.984615</td>\n",
              "      <td>29.730769</td>\n",
              "      <td>141.769231</td>\n",
              "    </tr>\n",
              "    <tr>\n",
              "      <th>2018-11-27 18:06:00</th>\n",
              "      <td>20.992593</td>\n",
              "      <td>31.162963</td>\n",
              "      <td>140.925926</td>\n",
              "    </tr>\n",
              "    <tr>\n",
              "      <th>2018-11-27 18:07:00</th>\n",
              "      <td>20.953846</td>\n",
              "      <td>29.773077</td>\n",
              "      <td>147.384615</td>\n",
              "    </tr>\n",
              "    <tr>\n",
              "      <th>2018-11-27 18:08:00</th>\n",
              "      <td>20.907407</td>\n",
              "      <td>29.437037</td>\n",
              "      <td>148.481481</td>\n",
              "    </tr>\n",
              "    <tr>\n",
              "      <th>2018-11-27 18:09:00</th>\n",
              "      <td>20.923077</td>\n",
              "      <td>30.503846</td>\n",
              "      <td>137.769231</td>\n",
              "    </tr>\n",
              "    <tr>\n",
              "      <th>2018-11-27 18:10:00</th>\n",
              "      <td>21.000000</td>\n",
              "      <td>30.296154</td>\n",
              "      <td>147.576923</td>\n",
              "    </tr>\n",
              "    <tr>\n",
              "      <th>2018-11-27 18:11:00</th>\n",
              "      <td>21.000000</td>\n",
              "      <td>30.170370</td>\n",
              "      <td>146.740741</td>\n",
              "    </tr>\n",
              "    <tr>\n",
              "      <th>2018-11-27 18:12:00</th>\n",
              "      <td>21.000000</td>\n",
              "      <td>29.611538</td>\n",
              "      <td>126.115385</td>\n",
              "    </tr>\n",
              "    <tr>\n",
              "      <th>2018-11-27 18:13:00</th>\n",
              "      <td>21.000000</td>\n",
              "      <td>29.440000</td>\n",
              "      <td>144.600000</td>\n",
              "    </tr>\n",
              "  </tbody>\n",
              "</table>\n",
              "</div>"
            ],
            "text/plain": [
              "                     temperature   humidity  luminosity\n",
              "date                                                   \n",
              "2018-11-27 17:35:00    20.900000  30.875000  145.000000\n",
              "2018-11-27 17:36:00    20.903846  31.203846  151.192308\n",
              "2018-11-27 17:37:00    20.900000  30.319231  144.846154\n",
              "2018-11-27 17:38:00    20.907407  29.996296  140.666667\n",
              "2018-11-27 17:39:00    20.915385  29.880769  139.384615\n",
              "2018-11-27 17:40:00    21.000000  30.281481  138.592593\n",
              "2018-11-27 17:41:00    21.000000  30.061538  138.461538\n",
              "2018-11-27 17:42:00    21.000000  30.819231  138.461538\n",
              "2018-11-27 17:43:00    20.996296  29.729630  137.777778\n",
              "2018-11-27 17:44:00    21.000000  30.676923  138.115385\n",
              "2018-11-27 17:45:00    20.996296  30.244444  139.333333\n",
              "2018-11-27 17:46:00    21.000000  30.100000  139.192308\n",
              "2018-11-27 17:47:00    21.000000  29.738462  139.730769\n",
              "2018-11-27 17:48:00    20.981481  29.459259  139.037037\n",
              "2018-11-27 17:49:00    20.988462  29.884615  139.423077\n",
              "2018-11-27 17:50:00    21.015385  31.896154  127.807692\n",
              "2018-11-27 17:51:00    21.096296  32.240741  136.592593\n",
              "2018-11-27 17:52:00    21.103846  30.511538  139.769231\n",
              "2018-11-27 17:53:00    21.100000  29.388889  141.148148\n",
              "2018-11-27 17:54:00    21.057692  29.523077  140.423077\n",
              "2018-11-27 17:55:00    20.980769  29.561538  140.269231\n",
              "2018-11-27 17:56:00    20.996296  29.792593  140.703704\n",
              "2018-11-27 17:57:00    20.919231  29.742308  141.846154\n",
              "2018-11-27 17:58:00    20.940741  30.751852  142.888889\n",
              "2018-11-27 17:59:00    20.973077  30.111538  143.384615\n",
              "2018-11-27 18:00:00    20.900000  30.596154  142.423077\n",
              "2018-11-27 18:01:00    20.900000  30.596296  138.518519\n",
              "2018-11-27 18:02:00    20.900000  29.734615  138.884615\n",
              "2018-11-27 18:03:00    20.903704  30.474074  140.259259\n",
              "2018-11-27 18:04:00    20.965385  29.973077  141.961538\n",
              "2018-11-27 18:05:00    20.984615  29.730769  141.769231\n",
              "2018-11-27 18:06:00    20.992593  31.162963  140.925926\n",
              "2018-11-27 18:07:00    20.953846  29.773077  147.384615\n",
              "2018-11-27 18:08:00    20.907407  29.437037  148.481481\n",
              "2018-11-27 18:09:00    20.923077  30.503846  137.769231\n",
              "2018-11-27 18:10:00    21.000000  30.296154  147.576923\n",
              "2018-11-27 18:11:00    21.000000  30.170370  146.740741\n",
              "2018-11-27 18:12:00    21.000000  29.611538  126.115385\n",
              "2018-11-27 18:13:00    21.000000  29.440000  144.600000"
            ]
          },
          "metadata": {
            "tags": []
          },
          "execution_count": 125
        }
      ]
    },
    {
      "metadata": {
        "id": "i3BiiT-L1Dle",
        "colab_type": "code",
        "outputId": "db860052-9d4a-40f0-be31-4376c4bf31d0",
        "colab": {
          "base_uri": "https://localhost:8080/",
          "height": 421
        }
      },
      "cell_type": "code",
      "source": [
        "#  Plot mean of the iot data per every hour \n",
        "iot_s.resample('60S').mean().plot(figsize=(12,6), title='Hourly change of temp, humi, and lumi', \n",
        "                                ylim=[0,200])"
      ],
      "execution_count": 131,
      "outputs": [
        {
          "output_type": "execute_result",
          "data": {
            "text/plain": [
              "<matplotlib.axes._subplots.AxesSubplot at 0x7f3759e87518>"
            ]
          },
          "metadata": {
            "tags": []
          },
          "execution_count": 131
        },
        {
          "output_type": "display_data",
          "data": {
            "image/png": "[encoded data removed]",
            "text/plain": [
              "<matplotlib.figure.Figure at 0x7f3759dba5f8>"
            ]
          },
          "metadata": {
            "tags": []
          }
        }
      ]
    },
    {
      "metadata": {
        "id": "xOyOCttIEYV_",
        "colab_type": "code",
        "colab": {
          "base_uri": "https://localhost:8080/",
          "height": 421
        },
        "outputId": "7d3ea1c5-8a2f-4503-84dd-8f632fbfa5b1"
      },
      "cell_type": "code",
      "source": [
        "#  Plot mean of the iot data per every hour \n",
        "iot_s.resample('300S').mean().plot(figsize=(12,6), title='Hourly change of temp, humi, and lumi', \n",
        "                                ylim=[0,200])"
      ],
      "execution_count": 133,
      "outputs": [
        {
          "output_type": "execute_result",
          "data": {
            "text/plain": [
              "<matplotlib.axes._subplots.AxesSubplot at 0x7f3759cf3470>"
            ]
          },
          "metadata": {
            "tags": []
          },
          "execution_count": 133
        },
        {
          "output_type": "display_data",
          "data": {
            "image/png": "[encoded data removed]",
            "text/plain": [
              "<matplotlib.figure.Figure at 0x7f3759d50b70>"
            ]
          },
          "metadata": {
            "tags": []
          }
        }
      ]
    },
    {
      "metadata": {
        "id": "FOzjSuXYEcM_",
        "colab_type": "code",
        "colab": {
          "base_uri": "https://localhost:8080/",
          "height": 421
        },
        "outputId": "c0d5cc05-d118-453b-9bd5-2f4001336bd7"
      },
      "cell_type": "code",
      "source": [
        "#  Plot mean of the iot data per every hour \n",
        "iot_s.resample('600S').mean().plot(figsize=(12,6), title='Hourly change of temp, humi, and lumi', \n",
        "                                ylim=[0,200])"
      ],
      "execution_count": 134,
      "outputs": [
        {
          "output_type": "execute_result",
          "data": {
            "text/plain": [
              "<matplotlib.axes._subplots.AxesSubplot at 0x7f3759c23470>"
            ]
          },
          "metadata": {
            "tags": []
          },
          "execution_count": 134
        },
        {
          "output_type": "display_data",
          "data": {
            "image/png": "[encoded data removed]",
            "text/plain": [
              "<matplotlib.figure.Figure at 0x7f3759c1b2e8>"
            ]
          },
          "metadata": {
            "tags": []
          }
        }
      ]
    },
    {
      "metadata": {
        "id": "1Na-aiX31Dli",
        "colab_type": "code",
        "outputId": "72be3361-5f29-455b-daac-8dd53722bdd4",
        "colab": {
          "base_uri": "https://localhost:8080/",
          "height": 421
        }
      },
      "cell_type": "code",
      "source": [
        "#  Plot mean of the iot data per every day\n",
        "iot_s.resample('60S').mean().plot(kind='line', marker='o', ms=10, figsize=(12,6), title='Daily change of temperature, humidity, and luminosity')"
      ],
      "execution_count": 135,
      "outputs": [
        {
          "output_type": "execute_result",
          "data": {
            "text/plain": [
              "<matplotlib.axes._subplots.AxesSubplot at 0x7f3759c7f5c0>"
            ]
          },
          "metadata": {
            "tags": []
          },
          "execution_count": 135
        },
        {
          "output_type": "display_data",
          "data": {
            "image/png": "[encoded data removed]",
            "text/plain": [
              "<matplotlib.figure.Figure at 0x7f3759c495f8>"
            ]
          },
          "metadata": {
            "tags": []
          }
        }
      ]
    },
    {
      "metadata": {
        "id": "9vmouk61ElLJ",
        "colab_type": "code",
        "colab": {
          "base_uri": "https://localhost:8080/",
          "height": 421
        },
        "outputId": "ea0b521f-dbd3-4c16-efc4-4897059c9ef7"
      },
      "cell_type": "code",
      "source": [
        "#  Plot mean of the iot data per every day\n",
        "iot_s.resample('300S').mean().plot(kind='line', marker='o', ms=10, figsize=(12,6), title='Daily change of temperature, humidity, and luminosity')"
      ],
      "execution_count": 136,
      "outputs": [
        {
          "output_type": "execute_result",
          "data": {
            "text/plain": [
              "<matplotlib.axes._subplots.AxesSubplot at 0x7f3759b68a90>"
            ]
          },
          "metadata": {
            "tags": []
          },
          "execution_count": 136
        },
        {
          "output_type": "display_data",
          "data": {
            "image/png": "[encoded data removed]",
            "text/plain": [
              "<matplotlib.figure.Figure at 0x7f3759b803c8>"
            ]
          },
          "metadata": {
            "tags": []
          }
        }
      ]
    },
    {
      "metadata": {
        "id": "8XzAUgMMEoEG",
        "colab_type": "code",
        "colab": {
          "base_uri": "https://localhost:8080/",
          "height": 421
        },
        "outputId": "29d64d64-4e12-4020-d390-2c9162bf34a4"
      },
      "cell_type": "code",
      "source": [
        "#  Plot mean of the iot data per every day\n",
        "iot_s.resample('600S').mean().plot(kind='line', marker='o', ms=10, figsize=(12,6), title='Daily change of temperature, humidity, and luminosity')"
      ],
      "execution_count": 137,
      "outputs": [
        {
          "output_type": "execute_result",
          "data": {
            "text/plain": [
              "<matplotlib.axes._subplots.AxesSubplot at 0x7f3759b80400>"
            ]
          },
          "metadata": {
            "tags": []
          },
          "execution_count": 137
        },
        {
          "output_type": "display_data",
          "data": {
            "image/png": "[encoded data removed]",
            "text/plain": [
              "<matplotlib.figure.Figure at 0x7f3759afe550>"
            ]
          },
          "metadata": {
            "tags": []
          }
        }
      ]
    },
    {
      "metadata": {
        "id": "zNs608SE3PxR",
        "colab_type": "text"
      },
      "cell_type": "markdown",
      "source": [
        "\n",
        "\n",
        "---\n",
        "\n"
      ]
    },
    {
      "metadata": {
        "id": "bSJOj1mh1Dl0",
        "colab_type": "code",
        "colab": {}
      },
      "cell_type": "code",
      "source": [
        ""
      ],
      "execution_count": 0,
      "outputs": []
    }
  ]
}